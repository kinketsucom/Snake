{
 "cells": [
  {
   "cell_type": "code",
   "execution_count": 79,
   "metadata": {},
   "outputs": [
    {
     "data": {
      "text/plain": [
       "True"
      ]
     },
     "execution_count": 79,
     "metadata": {},
     "output_type": "execute_result"
    }
   ],
   "source": [
    "#coding:utf-8\n",
    "import numpy as np\n",
    "import cv2\n",
    "import math\n",
    "\n",
    "\n",
    "#画像の読み込み\n",
    "test = cv2.imread(\"./Img/input.jpg\", cv2.IMREAD_COLOR)#BGRなので気をつける\n",
    "gray_test = cv2.imread(\"./Img/input.jpg\",cv2.IMREAD_GRAYSCALE)\n",
    "width = test.shape[0]\n",
    "height = test.shape[1] \n",
    "\n",
    "#画像の書き出し\n",
    "cv2.imwrite('./Img/test.jpg', test)\n",
    "cv2.imwrite('./Img/gray_test.jpg',gray_test)\n"
   ]
  },
  {
   "cell_type": "code",
   "execution_count": 92,
   "metadata": {},
   "outputs": [],
   "source": [
    "N = 2\n",
    "\n",
    "v = np.zeros((N+2,2))\n",
    "for i in range(0,N+2):\n",
    "    v[i] = [math.cos(2*math.pi*i/N),math.sin(2*math.pi*i/N)]\n",
    "    \n",
    "alpha = 1\n",
    "beta = 1\n",
    "gamma = 1\n",
    "kappa = 1\n",
    "\n",
    "def EpsIn(vec):#test\n",
    "    value = 0\n",
    "    for i in range(0,N):\n",
    "        value += alpha*np.linalg.norm(vec[i+1]-vec[i])**2+beta*np.linalg.norm(vec[i+2]-2*vec[i+1]+vec[i])**2\n",
    "    value /= 2\n",
    "    print(\"In:\"+str(value))\n",
    "    return value\n",
    "\n",
    "def EpsEx(vec,pix):#gray\n",
    "    value = 0\n",
    "    for i in range(0,N):\n",
    "        x = int(vec[i,0])\n",
    "        y = int(vec[i,1])\n",
    "        I = [pix[x+1,y]-pix[x,y] , pix[x,y+1]-pix[x,y]]\n",
    "        value += -gamma*np.linalg.norm(I)**2    \n",
    "    print(\"Ex:\"+str(value))\n",
    "    return value\n",
    "\n",
    "def EpsCon(vec):#test\n",
    "    value = 0\n",
    "    vec_g = np.zeros(2)\n",
    "    for i in range(0,N):\n",
    "        vec_g += [vec[i,0],vec[i,1]]\n",
    "    vec_g /= N   \n",
    "        \n",
    "    for i in range(0,N):\n",
    "        value += -kappa*np.linalg.norm(vec[i] - vec_g)**2\n",
    "    print(\"Con:\"+str(value))\n",
    "    return value\n",
    "    \n",
    "def Energy(vec,pix):\n",
    "    value = 0\n",
    "    value = EpsIn(vec)+EpsEx(vec,pix)+EpsCon(vec)\n",
    "    print(\"Energy:\"+str(value))\n",
    "    return value"
   ]
  },
  {
   "cell_type": "code",
   "execution_count": 93,
   "metadata": {},
   "outputs": [
    {
     "name": "stdout",
     "output_type": "stream",
     "text": [
      "In:20.0\n",
      "Ex:-1.0\n",
      "Con:-2.0\n",
      "Energy:17.0\n",
      "17.0\n"
     ]
    }
   ],
   "source": [
    "print(Energy(v,gray_test))"
   ]
  },
  {
   "cell_type": "code",
   "execution_count": null,
   "metadata": {},
   "outputs": [],
   "source": []
  }
 ],
 "metadata": {
  "kernelspec": {
   "display_name": "Python 3",
   "language": "python",
   "name": "python3"
  },
  "language_info": {
   "codemirror_mode": {
    "name": "ipython",
    "version": 3
   },
   "file_extension": ".py",
   "mimetype": "text/x-python",
   "name": "python",
   "nbconvert_exporter": "python",
   "pygments_lexer": "ipython3",
   "version": "3.6.1"
  }
 },
 "nbformat": 4,
 "nbformat_minor": 2
}

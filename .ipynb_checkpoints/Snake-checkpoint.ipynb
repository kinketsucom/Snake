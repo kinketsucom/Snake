{
 "cells": [
  {
   "cell_type": "code",
   "execution_count": 3,
   "metadata": {},
   "outputs": [
    {
     "data": {
      "text/plain": [
       "True"
      ]
     },
     "execution_count": 3,
     "metadata": {},
     "output_type": "execute_result"
    }
   ],
   "source": [
    "#coding:utf-8\n",
    "import numpy as np\n",
    "import cv2\n",
    "import math\n",
    "\n",
    "\n",
    "#画像の読み込み\n",
    "test = cv2.imread(\"./Img/input.jpg\", cv2.IMREAD_COLOR)#BGRなので気をつける\n",
    "gray_test = cv2.imread(\"./Img/input.jpg\",cv2.IMREAD_GRAYSCALE)\n",
    "width = test.shape[0]\n",
    "height = test.shape[1] \n",
    "\n",
    "#画像の書き出し\n",
    "cv2.imwrite('./Img/test.jpg', test)\n",
    "cv2.imwrite('./Img/gray_test.jpg',gray_test)\n"
   ]
  },
  {
   "cell_type": "code",
   "execution_count": 50,
   "metadata": {},
   "outputs": [],
   "source": [
    "N = 2\n",
    "\n",
    "v = np.zeros((N+2,2))\n",
    "for i in range(0,N+2):\n",
    "    v[i] = [math.cos(2*math.pi*i/N),math.sin(2*math.pi*i/N)]\n",
    "    \n",
    "alpha = 1\n",
    "beta = 1\n",
    "gamma = 1\n",
    "kappa = 1\n",
    "\n",
    "def EpsIn(vec):#test\n",
    "    value = 0\n",
    "    for i in range(0,N):\n",
    "        value += alpha*np.linalg.norm(vec[i+1]-vec[i])**2+beta*np.linalg.norm(vec[i+2]-2*vec[i+1]+vec[i])**2\n",
    "    return value/2\n",
    "\n",
    "def EpsEx(pix_vec,vec):#gray\n",
    "    value = 0\n",
    "    for i in range(0,N):\n",
    "        x = vec[i,0]\n",
    "        y = vec[i,1]\n",
    "        I = [pix_vec[x+1,y]-pix_vec[x,y],pix_vec[x,y+1,y]]\n",
    "        value += -gamma*np.linalg.norm(I)**2    \n",
    "    return value\n",
    "\n",
    "def EpsCon(vec):#test\n",
    "    value = 0\n",
    "    vec_g = np.zeros(2)\n",
    "    for i in range(0,N):\n",
    "        vec_g += [vec[i,0],vec[i,1]]\n",
    "    vec_g /= N   \n",
    "        \n",
    "    for i in range(0,N):\n",
    "        vev[i] - vec_g\n",
    "        \n",
    "    \n",
    "    \n",
    "    return value\n",
    "    "
   ]
  },
  {
   "cell_type": "code",
   "execution_count": 49,
   "metadata": {},
   "outputs": [
    {
     "data": {
      "text/plain": [
       "0.0"
      ]
     },
     "execution_count": 49,
     "metadata": {},
     "output_type": "execute_result"
    }
   ],
   "source": []
  },
  {
   "cell_type": "code",
   "execution_count": null,
   "metadata": {},
   "outputs": [],
   "source": []
  }
 ],
 "metadata": {
  "kernelspec": {
   "display_name": "Python 3",
   "language": "python",
   "name": "python3"
  },
  "language_info": {
   "codemirror_mode": {
    "name": "ipython",
    "version": 3
   },
   "file_extension": ".py",
   "mimetype": "text/x-python",
   "name": "python",
   "nbconvert_exporter": "python",
   "pygments_lexer": "ipython3",
   "version": "3.6.1"
  }
 },
 "nbformat": 4,
 "nbformat_minor": 2
}
